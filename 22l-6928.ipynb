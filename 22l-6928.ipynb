{
  "nbformat": 4,
  "nbformat_minor": 0,
  "metadata": {
    "colab": {
      "provenance": []
    },
    "kernelspec": {
      "name": "python3",
      "display_name": "Python 3"
    },
    "language_info": {
      "name": "python"
    }
  },
  "cells": [
    {
      "cell_type": "code",
      "execution_count": 11,
      "metadata": {
        "colab": {
          "base_uri": "https://localhost:8080/"
        },
        "id": "Miaq1Biezn67",
        "outputId": "4823be35-ed61-40fe-a904-038ac0cb6448"
      },
      "outputs": [
        {
          "output_type": "stream",
          "name": "stdout",
          "text": [
            "Shortest Path: [(0, 0), (1, 0), (2, 0), (3, 0), (3, 1), (3, 2), (3, 3)]\n"
          ]
        }
      ],
      "source": [
        "#Q1\n",
        "from collections import deque\n",
        "\n",
        "def find_shortest_path(matrix):\n",
        "    directions = [(-1, 0), (1, 0), (0, -1), (0, 1)]\n",
        "    start = (0, 0) #starting position\n",
        "    end = (3, 3) # goal position\n",
        "    queue = deque([(start, [start])]) #  position and steps taken to reach there\n",
        "    visited = set()\n",
        "\n",
        "    while queue:\n",
        "        current, path = queue.popleft()\n",
        "        if current == end:\n",
        "            return path\n",
        "        visited.add(current)\n",
        "        for direction in directions:\n",
        "            new_row = current[0] + direction[0]\n",
        "            new_col = current[1] + direction[1]\n",
        "            new_position = (new_row, new_col)\n",
        "            if (0 <= new_row < len(matrix) and 0 <= new_col < len(matrix[0]) and\n",
        "                new_position not in visited and matrix[new_row][new_col] == 0):\n",
        "                queue.append((new_position, path + [new_position]))\n",
        "    return None\n",
        "\n",
        "matrix = [\n",
        "    [0, 0, 0, 0],\n",
        "    [0, 0, 0, 0],\n",
        "    [0, 0, 0, 0],\n",
        "    [0, 0, 0, 0],\n",
        "    [0, 0, 0, 0]\n",
        "]\n",
        "\n",
        "path = find_shortest_path(matrix)\n",
        "print(\"Shortest Path:\", path)"
      ]
    },
    {
      "cell_type": "code",
      "source": [],
      "metadata": {
        "id": "LX29h60cINUk"
      },
      "execution_count": null,
      "outputs": []
    },
    {
      "cell_type": "code",
      "source": [
        "from collections import defaultdict\n",
        "\n",
        "class Graph:\n",
        "    def __init__(self, adjacency_list):\n",
        "        self.adjacency_list = adjacency_list\n",
        "\n",
        "    def get_neighbors(self, v):\n",
        "        return self.adjacency_list[v]\n",
        "\n",
        "    def h(self, n):\n",
        "        H = {\n",
        "            \"The\": 4,\n",
        "            \"cat\": 3,\n",
        "            \"dog\": 3,\n",
        "            \"runs\": 2,\n",
        "            \"fast\": 1\n",
        "        }\n",
        "        return H[n]\n",
        "\n",
        "    def process_neighbor(self, neighbor, cost, n, open_list, closed_list, g, parents):\n",
        "        \"\"\"Processes a neighbor node during the A* algorithm.\"\"\"\n",
        "        if neighbor not in open_list and neighbor not in closed_list:\n",
        "            open_list.add(neighbor)\n",
        "            parents[neighbor] = n\n",
        "            g[neighbor] = g[n] + cost\n",
        "        else:\n",
        "            if g[neighbor] > g[n] + cost:\n",
        "                g[neighbor] = g[n] + cost\n",
        "                parents[neighbor] = n\n",
        "\n",
        "                if neighbor in closed_list:\n",
        "                    closed_list.remove(neighbor)\n",
        "                    open_list.add(neighbor)\n",
        "\n",
        "    def a_star_algorithm(self, start_node, stop_node):\n",
        "        open_list = set([start_node])\n",
        "        closed_list = set([])\n",
        "\n",
        "        g = {}\n",
        "        g[start_node] = 0\n",
        "\n",
        "        parents = {}\n",
        "        parents[start_node] = None\n",
        "\n",
        "        while len(open_list) > 0:\n",
        "            n = None\n",
        "            for node in open_list:\n",
        "                if n is None or g[node] + self.h(node) < g[n] + self.h(n):\n",
        "                    n = node\n",
        "\n",
        "            if n is None:\n",
        "                print(\"Path does not exist!\")\n",
        "                return None\n",
        "\n",
        "            if n == stop_node:\n",
        "                path = []\n",
        "                while n is not None:\n",
        "                    path.append(n)\n",
        "                    n = parents[n]\n",
        "                path.reverse()\n",
        "\n",
        "                print(\"Sentence:\", \" \".join(path))\n",
        "                print(\"Total cost:\", g[stop_node])\n",
        "                return path\n",
        "\n",
        "            for (neighbor, cost) in self.get_neighbors(n):\n",
        "                self.process_neighbor(neighbor, cost, n, open_list, closed_list, g, parents)\n",
        "\n",
        "            open_list.remove(n)\n",
        "            closed_list.add(n)\n",
        "\n",
        "        print(\"Path does not exist!\")\n",
        "        return None\n",
        "\n",
        "\n",
        "# Define the graph given in adjacency list\n",
        "adjacency_list = {\n",
        "    \"The\": [(\"cat\", 10), (\"dog\", 2)],\n",
        "    \"cat\": [(\"runs\", 2)],\n",
        "    \"dog\": [(\"runs\", 2)],\n",
        "    \"runs\": [(\"fast\", 1)],\n",
        "    \"fast\": []\n",
        "}\n",
        "\n",
        "# Create the graph object\n",
        "graph1 = Graph(adjacency_list)\n",
        "\n",
        "# Run the A* algorithm\n",
        "graph1.a_star_algorithm(\"The\", \"fast\")"
      ],
      "metadata": {
        "colab": {
          "base_uri": "https://localhost:8080/"
        },
        "id": "ebL5uCiBIN4D",
        "outputId": "1c3a781a-4c3f-4c97-c8d3-ae0e7626b824"
      },
      "execution_count": 10,
      "outputs": [
        {
          "output_type": "stream",
          "name": "stdout",
          "text": [
            "Sentence: The dog runs fast\n",
            "Total cost: 5\n"
          ]
        },
        {
          "output_type": "execute_result",
          "data": {
            "text/plain": [
              "['The', 'dog', 'runs', 'fast']"
            ]
          },
          "metadata": {},
          "execution_count": 10
        }
      ]
    },
    {
      "cell_type": "code",
      "source": [
        "#Q2\n",
        "import time\n",
        "\n",
        "def state_to_tuple(state):\n",
        "    return tuple(tuple(state[i:i+3]) for i in range(0, len(state), 3))\n",
        "\n",
        "def tuple_to_state(matrix):\n",
        "    return ''.join(''.join(row) for row in matrix)\n",
        "\n",
        "def get_moves(matrix):\n",
        "    moves = []\n",
        "    for i in range(3):\n",
        "        for j in range(3):\n",
        "            if matrix[i][j] == '0':\n",
        "                zero_pos = (i, j)\n",
        "                break\n",
        "    directions = [(-1, 0), (1, 0), (0, -1), (0, 1)]\n",
        "    for d in directions:\n",
        "        new_i, new_j = zero_pos[0] + d[0], zero_pos[1] + d[1]\n",
        "        if 0 <= new_i < 3 and 0 <= new_j < 3:\n",
        "            new_matrix = [list(row) for row in matrix]\n",
        "            new_matrix[zero_pos[0]][zero_pos[1]], new_matrix[new_i][new_j] = new_matrix[new_i][new_j], new_matrix[zero_pos[0]][zero_pos[1]]\n",
        "            moves.append(tuple(tuple(row) for row in new_matrix))\n",
        "    return moves\n",
        "\n",
        "def dfs(start_state, goal_state):\n",
        "    stack = [(start_state, [])]\n",
        "    visited = set()\n",
        "    while stack:\n",
        "        current_state, path = stack.pop()\n",
        "        if current_state == goal_state:\n",
        "            return path\n",
        "        if current_state in visited:\n",
        "            continue\n",
        "        visited.add(current_state)\n",
        "        for move in get_moves(current_state):\n",
        "            if move not in visited:\n",
        "                stack.append((move, path + [move]))\n",
        "    return None\n",
        "\n",
        "def main():\n",
        "    start_state = input(\"Enter start State: \")\n",
        "    goal_state = input(\"Enter goal State: \")\n",
        "    start_tuple = state_to_tuple(start_state)\n",
        "    goal_tuple = state_to_tuple(goal_state)\n",
        "    print(\"-----------------\")\n",
        "    print(\"DFS Algorithm\")\n",
        "    print(\"-----------------\")\n",
        "    start_time = time.time()\n",
        "    solution_path = dfs(start_tuple, goal_tuple)\n",
        "    end_time = time.time()\n",
        "    if solution_path:\n",
        "        print(\"Time taken:\", end_time - start_time, \"seconds\")\n",
        "        print(\"Path Cost:\", len(solution_path))\n",
        "        print(\"No of Nodes Visited:\", len(solution_path) + 1)\n",
        "        for state in solution_path:\n",
        "            for row in state:\n",
        "                print(' '.join(row))\n",
        "            print(\"-----\")\n",
        "    else:\n",
        "        print(\"No solution found.\")\n",
        "\n",
        "if __name__ == \"__main__\":\n",
        "    main()"
      ],
      "metadata": {
        "colab": {
          "base_uri": "https://localhost:8080/"
        },
        "id": "JQr2mdgj9BiM",
        "outputId": "c1791cbb-8884-4382-dbbb-942686a2458c"
      },
      "execution_count": 1,
      "outputs": [
        {
          "output_type": "stream",
          "name": "stdout",
          "text": [
            "Enter start State: 120345678\n",
            "Enter goal State: 012345678\n",
            "-----------------\n",
            "DFS Algorithm\n",
            "-----------------\n",
            "Time taken: 5.8650970458984375e-05 seconds\n",
            "Path Cost: 2\n",
            "No of Nodes Visited: 3\n",
            "1 0 2\n",
            "3 4 5\n",
            "6 7 8\n",
            "-----\n",
            "0 1 2\n",
            "3 4 5\n",
            "6 7 8\n",
            "-----\n"
          ]
        }
      ]
    }
  ]
}